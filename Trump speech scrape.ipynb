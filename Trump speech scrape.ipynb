{
  "nbformat": 4,
  "nbformat_minor": 0,
  "metadata": {
    "colab": {
      "name": "Trump speech scrape.ipynb",
      "provenance": [],
      "collapsed_sections": []
    },
    "kernelspec": {
      "name": "python3",
      "display_name": "Python 3"
    },
    "accelerator": "GPU"
  },
  "cells": [
    {
      "cell_type": "code",
      "metadata": {
        "id": "4txfLDJn7rTU",
        "colab": {
          "base_uri": "https://localhost:8080/",
          "height": 374
        },
        "outputId": "859b44ca-4416-426e-92a7-f827fa5cbd36"
      },
      "source": [
        "# Initialization\n",
        "\n",
        "#!kill -9 -1\n",
        "!pip install selenium\n",
        "!apt-get -q update # to update ubuntu to correctly run apt install\n",
        "!apt install -yq chromium-chromedriver\n",
        "!cp /usr/lib/chromium-browser/chromedriver /usr/bin\n",
        "\n",
        "import sys\n",
        "sys.path.insert(0,'/usr/lib/chromium-browser/chromedriver')\n",
        "from selenium import webdriver\n",
        "chrome_options = webdriver.ChromeOptions()\n",
        "chrome_options.add_argument('--headless')\n",
        "chrome_options.add_argument('--no-sandbox')\n",
        "chrome_options.add_argument('--disable-dev-shm-usage')\n",
        "\n",
        "import pandas as pd\n",
        "#wd = webdriver.Chrome('chromedriver',options=chrome_options)\n",
        "driver = webdriver.Chrome('chromedriver', options=chrome_options)\n",
        "\n",
        "import click\n",
        "from lxml import html"
      ],
      "execution_count": null,
      "outputs": [
        {
          "output_type": "stream",
          "text": [
            "Requirement already satisfied: selenium in /usr/local/lib/python3.6/dist-packages (3.141.0)\n",
            "Requirement already satisfied: urllib3 in /usr/local/lib/python3.6/dist-packages (from selenium) (1.24.3)\n",
            "Hit:1 https://cloud.r-project.org/bin/linux/ubuntu bionic-cran40/ InRelease\n",
            "Ign:2 https://developer.download.nvidia.com/compute/cuda/repos/ubuntu1804/x86_64  InRelease\n",
            "Ign:3 https://developer.download.nvidia.com/compute/machine-learning/repos/ubuntu1804/x86_64  InRelease\n",
            "Hit:4 https://developer.download.nvidia.com/compute/cuda/repos/ubuntu1804/x86_64  Release\n",
            "Hit:5 https://developer.download.nvidia.com/compute/machine-learning/repos/ubuntu1804/x86_64  Release\n",
            "Get:6 http://security.ubuntu.com/ubuntu bionic-security InRelease [88.7 kB]\n",
            "Hit:7 http://ppa.launchpad.net/c2d4u.team/c2d4u4.0+/ubuntu bionic InRelease\n",
            "Hit:8 http://archive.ubuntu.com/ubuntu bionic InRelease\n",
            "Get:10 http://archive.ubuntu.com/ubuntu bionic-updates InRelease [88.7 kB]\n",
            "Hit:11 http://ppa.launchpad.net/graphics-drivers/ppa/ubuntu bionic InRelease\n",
            "Get:13 http://archive.ubuntu.com/ubuntu bionic-backports InRelease [74.6 kB]\n",
            "Fetched 252 kB in 2s (163 kB/s)\n",
            "Reading package lists...\n",
            "Reading package lists...\n",
            "Building dependency tree...\n",
            "Reading state information...\n",
            "chromium-chromedriver is already the newest version (85.0.4183.121-0ubuntu0.18.04.1).\n",
            "0 upgraded, 0 newly installed, 0 to remove and 16 not upgraded.\n",
            "cp: '/usr/lib/chromium-browser/chromedriver' and '/usr/bin/chromedriver' are the same file\n"
          ],
          "name": "stdout"
        }
      ]
    },
    {
      "cell_type": "code",
      "metadata": {
        "id": "cAKM40cM-I3k"
      },
      "source": [
        "import time\n",
        "\n",
        "def scroll(driver, timeout):\n",
        "    scroll_pause_time = timeout\n",
        "\n",
        "    # Get scroll height\n",
        "    last_height = driver.execute_script(\"return document.body.scrollHeight\")\n",
        "\n",
        "    while True:\n",
        "        # Scroll down to bottom\n",
        "        driver.execute_script(\"window.scrollTo(0, document.body.scrollHeight);\")\n",
        "\n",
        "        # Wait to load page\n",
        "        time.sleep(scroll_pause_time)\n",
        "\n",
        "        # Calculate new scroll height and compare with last scroll height\n",
        "        new_height = driver.execute_script(\"return document.body.scrollHeight\")\n",
        "        if new_height == last_height:\n",
        "            # If heights are the same it will exit the function\n",
        "            break\n",
        "        last_height = new_height"
      ],
      "execution_count": null,
      "outputs": []
    },
    {
      "cell_type": "code",
      "metadata": {
        "id": "myx7YOmZycGi",
        "colab": {
          "base_uri": "https://localhost:8080/",
          "height": 409
        },
        "outputId": "4ddbce75-897e-4a20-b868-eff422410454"
      },
      "source": [
        "# Get a list of speeches\n",
        "\n",
        "from selenium.webdriver.common.keys import Keys\n",
        "\n",
        "speechtitles=[]\n",
        "speechbodies=[]\n",
        "\n",
        "driver.get('https://millercenter.org/the-presidency/presidential-speeches')\n",
        "driver.find_element_by_xpath('/html/body/div[2]/div/main/div[2]/div/div[2]/article/div/div[2]/div/div/div/form/div[3]/fieldset/div/div/div/div[44]/label').click()\n",
        "\n",
        "lastElement = driver.find_elements_by_id('block-mainpagecontent')[-1]\n",
        "lastElement = driver.find_elements_by_id('block-mainpagecontent')[-1]\n",
        "\n",
        "for i in range(1,36):\n",
        "  time.sleep(5)\n",
        "  driver.find_element_by_xpath('//*[@id=\"block-mainpagecontent\"]/article/div/div[2]/div/div/div/div/div['+str(i)+']/div[1]/span/a').click()\n",
        "  title = driver.find_element_by_xpath('//*[@id=\"block-mainpagecontent\"]/article/div/div[2]/h2/span').text \n",
        "  driver.find_element_by_xpath('//*[@id=\"block-mainpagecontent\"]/article/div/div[2]/div[3]/div/div[1]/div/a').click()\n",
        "\n",
        "  html = driver.page_source\n",
        "  start=(html.find('<h3>Transcript</h3>\\n')+29)\n",
        "  end=(html.find('</p>\\n\\n    </div>\\n    <div class=\"view-transcript-btn bottom\">\\n'))\n",
        "  b1=html[start:end]\n",
        "  b2=b1.replace('</p>\\n\\n<p>',' ')\n",
        "  body=b2.replace('&nbsp;','')\n",
        "  \n",
        "  speechtitles.append(title)\n",
        "  speechbodies.append(body)\n",
        "  driver.execute_script(\"window.history.go(-1)\")"
      ],
      "execution_count": null,
      "outputs": [
        {
          "output_type": "error",
          "ename": "ElementClickInterceptedException",
          "evalue": "ignored",
          "traceback": [
            "\u001b[0;31m---------------------------------------------------------------------------\u001b[0m",
            "\u001b[0;31mElementClickInterceptedException\u001b[0m          Traceback (most recent call last)",
            "\u001b[0;32m<ipython-input-28-5f846ea8664e>\u001b[0m in \u001b[0;36m<module>\u001b[0;34m()\u001b[0m\n\u001b[1;32m     14\u001b[0m \u001b[0;32mfor\u001b[0m \u001b[0mi\u001b[0m \u001b[0;32min\u001b[0m \u001b[0mrange\u001b[0m\u001b[0;34m(\u001b[0m\u001b[0;36m1\u001b[0m\u001b[0;34m,\u001b[0m\u001b[0;36m36\u001b[0m\u001b[0;34m)\u001b[0m\u001b[0;34m:\u001b[0m\u001b[0;34m\u001b[0m\u001b[0;34m\u001b[0m\u001b[0m\n\u001b[1;32m     15\u001b[0m   \u001b[0mtime\u001b[0m\u001b[0;34m.\u001b[0m\u001b[0msleep\u001b[0m\u001b[0;34m(\u001b[0m\u001b[0;36m5\u001b[0m\u001b[0;34m)\u001b[0m\u001b[0;34m\u001b[0m\u001b[0;34m\u001b[0m\u001b[0m\n\u001b[0;32m---> 16\u001b[0;31m   \u001b[0mdriver\u001b[0m\u001b[0;34m.\u001b[0m\u001b[0mfind_element_by_xpath\u001b[0m\u001b[0;34m(\u001b[0m\u001b[0;34m'//*[@id=\"block-mainpagecontent\"]/article/div/div[2]/div/div/div/div/div['\u001b[0m\u001b[0;34m+\u001b[0m\u001b[0mstr\u001b[0m\u001b[0;34m(\u001b[0m\u001b[0mi\u001b[0m\u001b[0;34m)\u001b[0m\u001b[0;34m+\u001b[0m\u001b[0;34m']/div[1]/span/a'\u001b[0m\u001b[0;34m)\u001b[0m\u001b[0;34m.\u001b[0m\u001b[0mclick\u001b[0m\u001b[0;34m(\u001b[0m\u001b[0;34m)\u001b[0m\u001b[0;34m\u001b[0m\u001b[0;34m\u001b[0m\u001b[0m\n\u001b[0m\u001b[1;32m     17\u001b[0m   \u001b[0mtitle\u001b[0m \u001b[0;34m=\u001b[0m \u001b[0mdriver\u001b[0m\u001b[0;34m.\u001b[0m\u001b[0mfind_element_by_xpath\u001b[0m\u001b[0;34m(\u001b[0m\u001b[0;34m'//*[@id=\"block-mainpagecontent\"]/article/div/div[2]/h2/span'\u001b[0m\u001b[0;34m)\u001b[0m\u001b[0;34m.\u001b[0m\u001b[0mtext\u001b[0m\u001b[0;34m\u001b[0m\u001b[0;34m\u001b[0m\u001b[0m\n\u001b[1;32m     18\u001b[0m   \u001b[0mdriver\u001b[0m\u001b[0;34m.\u001b[0m\u001b[0mfind_element_by_xpath\u001b[0m\u001b[0;34m(\u001b[0m\u001b[0;34m'//*[@id=\"block-mainpagecontent\"]/article/div/div[2]/div[3]/div/div[1]/div/a'\u001b[0m\u001b[0;34m)\u001b[0m\u001b[0;34m.\u001b[0m\u001b[0mclick\u001b[0m\u001b[0;34m(\u001b[0m\u001b[0;34m)\u001b[0m\u001b[0;34m\u001b[0m\u001b[0;34m\u001b[0m\u001b[0m\n",
            "\u001b[0;32m/usr/local/lib/python3.6/dist-packages/selenium/webdriver/remote/webelement.py\u001b[0m in \u001b[0;36mclick\u001b[0;34m(self)\u001b[0m\n\u001b[1;32m     78\u001b[0m     \u001b[0;32mdef\u001b[0m \u001b[0mclick\u001b[0m\u001b[0;34m(\u001b[0m\u001b[0mself\u001b[0m\u001b[0;34m)\u001b[0m\u001b[0;34m:\u001b[0m\u001b[0;34m\u001b[0m\u001b[0;34m\u001b[0m\u001b[0m\n\u001b[1;32m     79\u001b[0m         \u001b[0;34m\"\"\"Clicks the element.\"\"\"\u001b[0m\u001b[0;34m\u001b[0m\u001b[0;34m\u001b[0m\u001b[0m\n\u001b[0;32m---> 80\u001b[0;31m         \u001b[0mself\u001b[0m\u001b[0;34m.\u001b[0m\u001b[0m_execute\u001b[0m\u001b[0;34m(\u001b[0m\u001b[0mCommand\u001b[0m\u001b[0;34m.\u001b[0m\u001b[0mCLICK_ELEMENT\u001b[0m\u001b[0;34m)\u001b[0m\u001b[0;34m\u001b[0m\u001b[0;34m\u001b[0m\u001b[0m\n\u001b[0m\u001b[1;32m     81\u001b[0m \u001b[0;34m\u001b[0m\u001b[0m\n\u001b[1;32m     82\u001b[0m     \u001b[0;32mdef\u001b[0m \u001b[0msubmit\u001b[0m\u001b[0;34m(\u001b[0m\u001b[0mself\u001b[0m\u001b[0;34m)\u001b[0m\u001b[0;34m:\u001b[0m\u001b[0;34m\u001b[0m\u001b[0;34m\u001b[0m\u001b[0m\n",
            "\u001b[0;32m/usr/local/lib/python3.6/dist-packages/selenium/webdriver/remote/webelement.py\u001b[0m in \u001b[0;36m_execute\u001b[0;34m(self, command, params)\u001b[0m\n\u001b[1;32m    631\u001b[0m             \u001b[0mparams\u001b[0m \u001b[0;34m=\u001b[0m \u001b[0;34m{\u001b[0m\u001b[0;34m}\u001b[0m\u001b[0;34m\u001b[0m\u001b[0;34m\u001b[0m\u001b[0m\n\u001b[1;32m    632\u001b[0m         \u001b[0mparams\u001b[0m\u001b[0;34m[\u001b[0m\u001b[0;34m'id'\u001b[0m\u001b[0;34m]\u001b[0m \u001b[0;34m=\u001b[0m \u001b[0mself\u001b[0m\u001b[0;34m.\u001b[0m\u001b[0m_id\u001b[0m\u001b[0;34m\u001b[0m\u001b[0;34m\u001b[0m\u001b[0m\n\u001b[0;32m--> 633\u001b[0;31m         \u001b[0;32mreturn\u001b[0m \u001b[0mself\u001b[0m\u001b[0;34m.\u001b[0m\u001b[0m_parent\u001b[0m\u001b[0;34m.\u001b[0m\u001b[0mexecute\u001b[0m\u001b[0;34m(\u001b[0m\u001b[0mcommand\u001b[0m\u001b[0;34m,\u001b[0m \u001b[0mparams\u001b[0m\u001b[0;34m)\u001b[0m\u001b[0;34m\u001b[0m\u001b[0;34m\u001b[0m\u001b[0m\n\u001b[0m\u001b[1;32m    634\u001b[0m \u001b[0;34m\u001b[0m\u001b[0m\n\u001b[1;32m    635\u001b[0m     \u001b[0;32mdef\u001b[0m \u001b[0mfind_element\u001b[0m\u001b[0;34m(\u001b[0m\u001b[0mself\u001b[0m\u001b[0;34m,\u001b[0m \u001b[0mby\u001b[0m\u001b[0;34m=\u001b[0m\u001b[0mBy\u001b[0m\u001b[0;34m.\u001b[0m\u001b[0mID\u001b[0m\u001b[0;34m,\u001b[0m \u001b[0mvalue\u001b[0m\u001b[0;34m=\u001b[0m\u001b[0;32mNone\u001b[0m\u001b[0;34m)\u001b[0m\u001b[0;34m:\u001b[0m\u001b[0;34m\u001b[0m\u001b[0;34m\u001b[0m\u001b[0m\n",
            "\u001b[0;32m/usr/local/lib/python3.6/dist-packages/selenium/webdriver/remote/webdriver.py\u001b[0m in \u001b[0;36mexecute\u001b[0;34m(self, driver_command, params)\u001b[0m\n\u001b[1;32m    319\u001b[0m         \u001b[0mresponse\u001b[0m \u001b[0;34m=\u001b[0m \u001b[0mself\u001b[0m\u001b[0;34m.\u001b[0m\u001b[0mcommand_executor\u001b[0m\u001b[0;34m.\u001b[0m\u001b[0mexecute\u001b[0m\u001b[0;34m(\u001b[0m\u001b[0mdriver_command\u001b[0m\u001b[0;34m,\u001b[0m \u001b[0mparams\u001b[0m\u001b[0;34m)\u001b[0m\u001b[0;34m\u001b[0m\u001b[0;34m\u001b[0m\u001b[0m\n\u001b[1;32m    320\u001b[0m         \u001b[0;32mif\u001b[0m \u001b[0mresponse\u001b[0m\u001b[0;34m:\u001b[0m\u001b[0;34m\u001b[0m\u001b[0;34m\u001b[0m\u001b[0m\n\u001b[0;32m--> 321\u001b[0;31m             \u001b[0mself\u001b[0m\u001b[0;34m.\u001b[0m\u001b[0merror_handler\u001b[0m\u001b[0;34m.\u001b[0m\u001b[0mcheck_response\u001b[0m\u001b[0;34m(\u001b[0m\u001b[0mresponse\u001b[0m\u001b[0;34m)\u001b[0m\u001b[0;34m\u001b[0m\u001b[0;34m\u001b[0m\u001b[0m\n\u001b[0m\u001b[1;32m    322\u001b[0m             response['value'] = self._unwrap_value(\n\u001b[1;32m    323\u001b[0m                 response.get('value', None))\n",
            "\u001b[0;32m/usr/local/lib/python3.6/dist-packages/selenium/webdriver/remote/errorhandler.py\u001b[0m in \u001b[0;36mcheck_response\u001b[0;34m(self, response)\u001b[0m\n\u001b[1;32m    240\u001b[0m                 \u001b[0malert_text\u001b[0m \u001b[0;34m=\u001b[0m \u001b[0mvalue\u001b[0m\u001b[0;34m[\u001b[0m\u001b[0;34m'alert'\u001b[0m\u001b[0;34m]\u001b[0m\u001b[0;34m.\u001b[0m\u001b[0mget\u001b[0m\u001b[0;34m(\u001b[0m\u001b[0;34m'text'\u001b[0m\u001b[0;34m)\u001b[0m\u001b[0;34m\u001b[0m\u001b[0;34m\u001b[0m\u001b[0m\n\u001b[1;32m    241\u001b[0m             \u001b[0;32mraise\u001b[0m \u001b[0mexception_class\u001b[0m\u001b[0;34m(\u001b[0m\u001b[0mmessage\u001b[0m\u001b[0;34m,\u001b[0m \u001b[0mscreen\u001b[0m\u001b[0;34m,\u001b[0m \u001b[0mstacktrace\u001b[0m\u001b[0;34m,\u001b[0m \u001b[0malert_text\u001b[0m\u001b[0;34m)\u001b[0m\u001b[0;34m\u001b[0m\u001b[0;34m\u001b[0m\u001b[0m\n\u001b[0;32m--> 242\u001b[0;31m         \u001b[0;32mraise\u001b[0m \u001b[0mexception_class\u001b[0m\u001b[0;34m(\u001b[0m\u001b[0mmessage\u001b[0m\u001b[0;34m,\u001b[0m \u001b[0mscreen\u001b[0m\u001b[0;34m,\u001b[0m \u001b[0mstacktrace\u001b[0m\u001b[0;34m)\u001b[0m\u001b[0;34m\u001b[0m\u001b[0;34m\u001b[0m\u001b[0m\n\u001b[0m\u001b[1;32m    243\u001b[0m \u001b[0;34m\u001b[0m\u001b[0m\n\u001b[1;32m    244\u001b[0m     \u001b[0;32mdef\u001b[0m \u001b[0m_value_or_default\u001b[0m\u001b[0;34m(\u001b[0m\u001b[0mself\u001b[0m\u001b[0;34m,\u001b[0m \u001b[0mobj\u001b[0m\u001b[0;34m,\u001b[0m \u001b[0mkey\u001b[0m\u001b[0;34m,\u001b[0m \u001b[0mdefault\u001b[0m\u001b[0;34m)\u001b[0m\u001b[0;34m:\u001b[0m\u001b[0;34m\u001b[0m\u001b[0;34m\u001b[0m\u001b[0m\n",
            "\u001b[0;31mElementClickInterceptedException\u001b[0m: Message: element click intercepted: Element <a href=\"/the-presidency/presidential-speeches/september-25-2018-address-73rd-session-united-nations-general\" hreflang=\"en\">...</a> is not clickable at point (304, 11). Other element would receive the click: <div id=\"block-miller-branding\">...</div>\n  (Session info: headless chrome=85.0.4183.121)\n"
          ]
        }
      ]
    },
    {
      "cell_type": "code",
      "metadata": {
        "id": "vEuLQ0hz_CYp",
        "colab": {
          "base_uri": "https://localhost:8080/",
          "height": 120
        },
        "outputId": "4f48e5a2-9328-4d5d-bbe7-b993bfae85e4"
      },
      "source": [
        "speechbodies"
      ],
      "execution_count": null,
      "outputs": [
        {
          "output_type": "execute_result",
          "data": {
            "application/vnd.google.colaboratory.intrinsic+json": {
              "type": "string"
            },
            "text/plain": [
              "'THE PRESIDENT: Wow. Are you having a good time? Members of Congress, members of my cabinet, and my fellow Americans: The First Lady and I are delighted to welcome you to the second annual Salute to America. On this wonderful day, we celebrate our history, our heroes, our heritage, our great American flag, and our freedom. Happy Fourth of July to everyone. I want to thank the U.S. Army Golden Knights for that truly awe-inspiring display. Tremendous talent. The Golden Knights, and every member of the Armed Forces here this evening, we just want to say that you have earned the eternal gratitude of our entire nation. Two hundred and forty-four years ago in Philadelphia, the 56 signers of our Declaration of Independence pledged their lives, their fortunes, and their sacred honor to boldly proclaim this eternal truth: that we are all made equal by God. Thanks to the courage of those patriots of July 4th, 1776, the American Republic stands today as the greatest, most exceptional, and most virtuous nation in the history of the world. Our workers, our factories have revolutionized industries and lifted millions into prosperity. Our artists, architects, and engineers have inspired the globe with transcendent works of beauty. American heroes defeated the Nazis, dethroned the fascists, toppled the communists, saved American values, upheld American principles, and chased down the terrorists to the very ends of the Earth. We are now in the process of defeating the radical left, the Marxists, the anarchists, the agitators, the looters, and people who, in many instances, have absolutely no clue what they are doing. Our inventors, scientists, doctors, and researchers have improved the lives of billions and billions all around the world. Our brave astronauts planted the American flag on the Moon, and America will be the first nation to land on Mars. All Americans living today are the heirs of this magnificent legacy. We are the descendants of the most daring and courageous people ever to walk on the face of the Earth. We inherit their towering confidence, unwavering enthusiasm, their unbridled ambition, and their unrelenting optimism. This is the untamed spirit that built this glorious nation, and this is the spirit that burns brightly within the soul of every American patriot. That is why we pay tribute to generations of American heroes whose names are etched on our monuments and memorials, and in the pages of history, and in the hearts of a very grateful people. We will never allow an angry mob to tear down our statues, erase our history, indoctrinate our children, or trample on our freedoms. We will safeguard our values, traditions, customs, and beliefs. We will teach our children to cherish and adore their country so that they can build its future. Together, we will fight for the American Dream, and we will defend, protect, and preserve American way of life, which began in 1492 when Columbus discovered America. Jobs and companies are coming back to our country like never before. The power of tariffs being imposed on foreign lands that took advantage of the United States for decades and decades have enabled us to make great trade deals where there were none. Tens of billions of dollars are now paid to the United States Treasury by the same countries. But there and then we got hit by the virus that came from China. And we’ve made a lot of progress; our strategy is moving along well. It goes out in one area, and rears back its ugly face in another area. But we’ve learned a lot. We’ve learned how to put out the flame. We’ve made ventilators where there were none by the tens of thousands, to the point that we have far more than we need, and we are now distributing them to many foreign countries, as a gesture of goodwill. Likewise, testing — there were no tests for a new virus, but now we have tested over 40 million people. But by so doing, we show cases, 99 percent of which are totally harmless. Results that no other country will show, because no other country has testing that we have — not in terms of the numbers or in terms of the quality. And now, just like everything else, we have become the manufacturer on record for ventilators, we have the most and finest testing anywhere in the world, and are producing gowns and masks and surgical equipment in our country where heretofore it was almost exclusively made in foreign lands, in particular, China, where, ironically, this virus and others came from. China’s secrecy, deceptions, and cover-up allowed it to spread all over the world — 189 countries — and China must be held fully accountable. With respect to remedies, we are now doing unbelievably well, and are in deep testing on vaccines, treatments, and therapeutics. I want to send our thanks to the scientists and researchers around the country and even around the world who are at the forefront of our historic effort to rapidly develop and deliver life-saving treatments and, ultimately, a vaccine. We are unleashing our nation’s scientific brilliance. And we’ll likely have a therapeutic and/or vaccine solution long before the end of the year. We’re grateful to be joined this evening by Americans battling on the frontlines to kill the virus. I just want to say that America thanks you. Please stand. Please. Thank you very much. Great, brilliant people. These are great and brilliant people. Thank you. And brave people. Our movement is based on lifting all citizens to reach their fullest, God-given potential. Never forget: We are one family and one nation. This rich heritage belongs to every citizen, young and old, first-generation American and tenth-generation American. This heritage belongs to every citizen, young and old — first-generation American — we want to go from first generation to tenth generation; it matters not. We are American. We are from the USA. This great heritage belongs to citizens of every background and of every walk of life. No matter our race, color, religion, or creed, we are one America, and we put America first. We will not allow anyone to divide our citizens by race or background. We will not allow them to foment hate, discord, and distrust. We will hold fast and true to the sacred loyalties that link us all as neighbors, as Americans, and as patriots. In every age, there have always been those who seek to lie about the past in order to gain power in the present. Those that are lying about our history, those who want us to be ashamed of who we are, are not interested in justice or in healing. Their goal is demolition. Our goal is not to destroy the greatest structure on Earth, what we have built: The United States of America. To build a future, where every family is safe, where every child is surrounded by love, where every community has equal opportunity, and every citizen enjoys great and everlasting dignity. Our past is not a burden to be cast away, it isa miraculous foundation that will lift us to the next great summit of human endeavor. The incredible story of American progress is the story of each generation picking up where the last finished — linked by time, by fate, and the eternal bonds of our national affection. Those who would sever those bonds would cut us off from the wisdom, the courage, the love, and the devotion that gave us everything we are today and everything we strive for tomorrow. We cannot let that happen. We will not throw away our heroes. We will honor them, and we will prove worthy of their sacrifice. These are great heroes. Let me also say a word to those in the media who falsely and consistently label their opponents as racists, who condemn patriotic citizens who offer a clear and truthful defense of American unity. That’s what our people are doing. We want a clear and faithful defense of American history and we want unity. When you level these false charges, you not only slander me, you not only slander the American people, but you slander generations of heroes who gave their lives for America. You slander people much braver and much more principled than you. You are slandering the young men who raised the flag at Iwo Jima, and those who perished fighting for freedom in the Civil War. You slander them. You are dishonoring their great legacy and their memory by insisting that they fought for racism and they fought for oppression. They didn’t fight for those things; they fought for the exact opposite. We will not let the legacy of these heroes be tarnished by you. The more you lie, the more you slander, the more you try to demean and divide, the more we will work hard to tell the truth. And we will win. The more you lie and demean and collude, the more credibility you lose. We want to bring the country together, and a free and open media will make this task a very easy one. Our country will be united. After all, what do we want? We want a strong military, great education, housing, low taxes, law and order. We want safety, we want equal justice, we want religious liberty, we want faith and family, and living in a great communities and happy communities and safe communities. And we want great jobs and we want to be respected by the rest of the world; not taken advantage of by the rest of the world, which has gone on for decade after decade. We should all want the same thing. How can it be any different than those things? The more bitter you become, the more we will appeal to love and patriotism, and the more we will rise above your hate to build a better future for every child in our great country. To celebrate America’s majestic inheritance, yesterday I signed an executive order to create a brand-new monument to our most beloved icons. The National Garden of American Heroes will be a vast outdoor park that will feature the statues of the greatest Americans who have ever lived. We will honor extraordinary citizens from every community and from every place and from every part of our nation. Great men and great women, people that we can look up to forever. Families will be able to walk among the statues of titans, and we have already selected the first 30 legacies and 30 legends. And why don’t we start with a man who has been very unfairly treated, who, two years ago, three years ago — especially five or six years ago — people would have said it’s impossible to even attempt to try and disturb his incredible legacy and success: George Washington. Thomas Jefferson. Betsy Ross. Alexander Hamilton. Benjamin Franklin. John Adams. James Madison. Dolly Madison. The great Frederick Douglass. Abraham Lincoln. Harriet Tubman. Harriet Beecher Stowe. Joshua Lawrence Chamberlain. Clara Barton. Daniel Boone. Davy Crockett. Henry Clay. Susan B. Anthony. Booker T. Washington. Orville and Wilbur Wright, who are looking down. And you’re going to see some planes like you have never seen before, because we build them better than anybody in the world. The greatest Air Force, the greatest fighters, the greatest everything. You’re going to be seeing something — I just wonder what Orville and Wilbur would have been thinking if they ever got to see that. But they’re looking. They’re checking it out right now along with us. Amelia Earhart. A great, great athlete no matter where he went; he was the best athlete: Jackie Robinson. George S. Patton — General Patton. He didn’t know how to lose. He didn’t don’t how to lose. General Douglas MacArthur. Audie Murphy. The great Billy Graham. And an incredible man, respected by everybody: Martin Luther King. President Ronald Reagan. Christa McAuliffe, and Antonin Scalia. So those are just a few of the people we’ll be naming, and things are subject to change, but once we make that decision, those great names are going to be up there and they’re never coming down. They have just been an incredible group. And we are going to do this in a very democratic way, frankly. We’re going to take names and suggestions. We’re going to have committees and we’re going to pick the greatest people that this country has ever known. The most respected people. The people that helped us the most. And the people that we can look up to and that our children and grandchildren and great-grandchildren can look up to into the future and they can say, “Isn’t America just a tremendous place?” So, thank you. That will be very exciting. The patriots who built our country were not villains, they were heroes whose courageous deeds improved the Earth beyond measure. The beauty and the glory of our constitutional system is that it gives us the tools to fight injustice, to heal division, and to continue the work of our Founding Fathers by expanding and growing the blessings of America. If you believe in justice, if you believe in freedom, if you believe in peace, then you must cherish the principles of our founding and the text of our Constitution. It is our founding and our Constitution. It is a firm foundation upon which all progress is achieved. That’s why our country is so strong, even despite terrible things that happen over the generations. Here this evening are a number of heroes who risk their own lives to uphold these values and keep our communities and our country safe. We are joined by the outstanding law enforcement officers who have been able to fight on the front lines, protecting our cities — many of them facing down violent assaults from very bad people. We are especially moved to be joined by the family of a great man: Fallen Officer David Dorn, a 38-year veteran of the St. Louis Police Department who was killed last month in the city he devoted his life to defending. And to David’s great family, I want to thank you very much. The American people will always support the courageous men and women of law enforcement. And nobody — nobody — embodies that better than David. Thank you very much. Please. And David is looking down right now, and he is so proud of you and he loves you so much. And thank you for being here. He’s a great man. He’s a great man. Finally tonight, we will salute the greatness and loyalty and valor of the men and women who have defended our independence for 244 years. We will honor the amazing men and women of the United States Military. Never in history has a nation used so much power to advance so much good. Battlefields across the world, and here at home, are marked with the gravestones of young patriots who spent their final valiant moments on this Earth to secure liberty and peace. Every child should be taught the military heroes who fought and died to make us free. These are great, great people. These are great, great heroes, indeed. And our greatest leaders and heroes should be recognized and even immortalized for coming generations to see. You know that. This will make our country even stronger long into the future. In a few moments, we will bear witness to awesome aircraft representing every major military conflict over the last 75 years. These planes once launched off massive aircraft carriers in the fiercest battles of World War II. They raced through the skies of Korea’s MiG Alley. They carried American warriors into the dense fields and jungles of Vietnam. They delivered a swift and swip- — and you know that sweeping — it was swift and it was sweeping like nobody has ever seen anything happen — a victory in Operation Desert Storm. A lot of you were involved in that. A lot of you were involved. That was a quick one. And they have gone on to dangerous missions around the world to take out enemy terrorists and bring our soldiers home safely. As you know, we’ve killed, this last year, the two leading terrorists of the last 10 years: al-Baghdadi and Soleimani. Killed. Gone. Over. We have worked to fully rebuild the Armed Forces of the United States. No enemy on Earth stands a chance — $2.5 trillion, we’ve invested — all made in the USA. We’ve never had anything near the power and the equipment that we have right now. We did that over the last three years. Everywhere these aircraft have flown, they’ve rained down American thunder, delivered American justice, and they have fiercely defended every square inch of American sovereignty.<br>\\nIn their steel frames, broad wings, and roaring engines, we see the story of America’s daring defiance, its soaring spirit, and undying resolve. Throughout our history, our country has been tested and tried – but we have always fought to victory. Whenever our way of life has been threatened, our ancestors have responded with the same resounding answer as those first patriots who fought for independence: We are Americans, and we never back down, we never give in, and we never give up, and we will never yield [in] defense of our nation. We love our nation. We will only fight to win. Today, we thank God for the gift of life and for the blessing of liberty. We honor the legends of our history, the glories of our Founding Fathers, and the giants of the past, and the heroes of today who keep us safe, who keep us strong and proud, and who keep us free. Once again, Happy July Fourth to all. Our country is in great shape. Our military has never been stronger. And many, many good things are going to happen. Next year will be one of the greatest years we’ve ever had. I want to thank our men and women — they are so good — of the National Park Service, Air Traffic Control, and the United States Military. God Bless you, God Bless our heroes, God bless America. And now, let the flyovers begin. Thank you very much. '"
            ]
          },
          "metadata": {
            "tags": []
          },
          "execution_count": 30
        }
      ]
    },
    {
      "cell_type": "code",
      "metadata": {
        "id": "go0UmqFa4p6m",
        "colab": {
          "base_uri": "https://localhost:8080/",
          "height": 1000
        },
        "outputId": "3873b4a5-2bb2-4cfc-edeb-235ec2702a06"
      },
      "source": [
        "driver.get('https://millercenter.org/the-presidency/presidential-speeches/july-4-2020-remarks-salute-america')\n",
        "driver.find_element_by_xpath('//*[@id=\"block-mainpagecontent\"]/article/div/div[2]/div[3]/div/div[1]/div/a').click()\n",
        "\n",
        "html = driver.page_source\n",
        "start=(html.find('<h3>Transcript</h3>\\n')+29)\n",
        "end=(html.find('</p>\\n\\n    </div>\\n    <div class=\"view-transcript-btn bottom\">\\n'))\n",
        "b1=html[start:end]\n",
        "b2=b1.replace('</p>\\n\\n<p>',' ')\n",
        "b3=b2.replace('&nbsp;','')\n",
        "b3"
      ],
      "execution_count": null,
      "outputs": [
        {
          "output_type": "execute_result",
          "data": {
            "application/vnd.google.colaboratory.intrinsic+json": {
              "type": "string"
            },
            "text/plain": [
              "'THE PRESIDENT: Wow. Are you having a good time? Members of Congress, members of my cabinet, and my fellow Americans: The First Lady and I are delighted to welcome you to the second annual Salute to America. On this wonderful day, we celebrate our history, our heroes, our heritage, our great American flag, and our freedom. Happy Fourth of July to everyone. I want to thank the U.S. Army Golden Knights for that truly awe-inspiring display. Tremendous talent. The Golden Knights, and every member of the Armed Forces here this evening, we just want to say that you have earned the eternal gratitude of our entire nation. Two hundred and forty-four years ago in Philadelphia, the 56 signers of our Declaration of Independence pledged their lives, their fortunes, and their sacred honor to boldly proclaim this eternal truth: that we are all made equal by God. Thanks to the courage of those patriots of July 4th, 1776, the American Republic stands today as the greatest, most exceptional, and most virtuous nation in the history of the world. Our workers, our factories have revolutionized industries and lifted millions into prosperity. Our artists, architects, and engineers have inspired the globe with transcendent works of beauty. American heroes defeated the Nazis, dethroned the fascists, toppled the communists, saved American values, upheld American principles, and chased down the terrorists to the very ends of the Earth. We are now in the process of defeating the radical left, the Marxists, the anarchists, the agitators, the looters, and people who, in many instances, have absolutely no clue what they are doing. Our inventors, scientists, doctors, and researchers have improved the lives of billions and billions all around the world. Our brave astronauts planted the American flag on the Moon, and America will be the first nation to land on Mars. All Americans living today are the heirs of this magnificent legacy. We are the descendants of the most daring and courageous people ever to walk on the face of the Earth. We inherit their towering confidence, unwavering enthusiasm, their unbridled ambition, and their unrelenting optimism. This is the untamed spirit that built this glorious nation, and this is the spirit that burns brightly within the soul of every American patriot. That is why we pay tribute to generations of American heroes whose names are etched on our monuments and memorials, and in the pages of history, and in the hearts of a very grateful people. We will never allow an angry mob to tear down our statues, erase our history, indoctrinate our children, or trample on our freedoms. We will safeguard our values, traditions, customs, and beliefs. We will teach our children to cherish and adore their country so that they can build its future. Together, we will fight for the American Dream, and we will defend, protect, and preserve American way of life, which began in 1492 when Columbus discovered America. Jobs and companies are coming back to our country like never before. The power of tariffs being imposed on foreign lands that took advantage of the United States for decades and decades have enabled us to make great trade deals where there were none. Tens of billions of dollars are now paid to the United States Treasury by the same countries. But there and then we got hit by the virus that came from China. And we’ve made a lot of progress; our strategy is moving along well. It goes out in one area, and rears back its ugly face in another area. But we’ve learned a lot. We’ve learned how to put out the flame. We’ve made ventilators where there were none by the tens of thousands, to the point that we have far more than we need, and we are now distributing them to many foreign countries, as a gesture of goodwill. Likewise, testing — there were no tests for a new virus, but now we have tested over 40 million people. But by so doing, we show cases, 99 percent of which are totally harmless. Results that no other country will show, because no other country has testing that we have — not in terms of the numbers or in terms of the quality. And now, just like everything else, we have become the manufacturer on record for ventilators, we have the most and finest testing anywhere in the world, and are producing gowns and masks and surgical equipment in our country where heretofore it was almost exclusively made in foreign lands, in particular, China, where, ironically, this virus and others came from. China’s secrecy, deceptions, and cover-up allowed it to spread all over the world — 189 countries — and China must be held fully accountable. With respect to remedies, we are now doing unbelievably well, and are in deep testing on vaccines, treatments, and therapeutics. I want to send our thanks to the scientists and researchers around the country and even around the world who are at the forefront of our historic effort to rapidly develop and deliver life-saving treatments and, ultimately, a vaccine. We are unleashing our nation’s scientific brilliance. And we’ll likely have a therapeutic and/or vaccine solution long before the end of the year. We’re grateful to be joined this evening by Americans battling on the frontlines to kill the virus. I just want to say that America thanks you. Please stand. Please. Thank you very much. Great, brilliant people. These are great and brilliant people. Thank you. And brave people. Our movement is based on lifting all citizens to reach their fullest, God-given potential. Never forget: We are one family and one nation. This rich heritage belongs to every citizen, young and old, first-generation American and tenth-generation American. This heritage belongs to every citizen, young and old — first-generation American — we want to go from first generation to tenth generation; it matters not. We are American. We are from the USA. This great heritage belongs to citizens of every background and of every walk of life. No matter our race, color, religion, or creed, we are one America, and we put America first. We will not allow anyone to divide our citizens by race or background. We will not allow them to foment hate, discord, and distrust. We will hold fast and true to the sacred loyalties that link us all as neighbors, as Americans, and as patriots. In every age, there have always been those who seek to lie about the past in order to gain power in the present. Those that are lying about our history, those who want us to be ashamed of who we are, are not interested in justice or in healing. Their goal is demolition. Our goal is not to destroy the greatest structure on Earth, what we have built: The United States of America. To build a future, where every family is safe, where every child is surrounded by love, where every community has equal opportunity, and every citizen enjoys great and everlasting dignity. Our past is not a burden to be cast away, it isa miraculous foundation that will lift us to the next great summit of human endeavor. The incredible story of American progress is the story of each generation picking up where the last finished — linked by time, by fate, and the eternal bonds of our national affection. Those who would sever those bonds would cut us off from the wisdom, the courage, the love, and the devotion that gave us everything we are today and everything we strive for tomorrow. We cannot let that happen. We will not throw away our heroes. We will honor them, and we will prove worthy of their sacrifice. These are great heroes. Let me also say a word to those in the media who falsely and consistently label their opponents as racists, who condemn patriotic citizens who offer a clear and truthful defense of American unity. That’s what our people are doing. We want a clear and faithful defense of American history and we want unity. When you level these false charges, you not only slander me, you not only slander the American people, but you slander generations of heroes who gave their lives for America. You slander people much braver and much more principled than you. You are slandering the young men who raised the flag at Iwo Jima, and those who perished fighting for freedom in the Civil War. You slander them. You are dishonoring their great legacy and their memory by insisting that they fought for racism and they fought for oppression. They didn’t fight for those things; they fought for the exact opposite. We will not let the legacy of these heroes be tarnished by you. The more you lie, the more you slander, the more you try to demean and divide, the more we will work hard to tell the truth. And we will win. The more you lie and demean and collude, the more credibility you lose. We want to bring the country together, and a free and open media will make this task a very easy one. Our country will be united. After all, what do we want? We want a strong military, great education, housing, low taxes, law and order. We want safety, we want equal justice, we want religious liberty, we want faith and family, and living in a great communities and happy communities and safe communities. And we want great jobs and we want to be respected by the rest of the world; not taken advantage of by the rest of the world, which has gone on for decade after decade. We should all want the same thing. How can it be any different than those things? The more bitter you become, the more we will appeal to love and patriotism, and the more we will rise above your hate to build a better future for every child in our great country. To celebrate America’s majestic inheritance, yesterday I signed an executive order to create a brand-new monument to our most beloved icons. The National Garden of American Heroes will be a vast outdoor park that will feature the statues of the greatest Americans who have ever lived. We will honor extraordinary citizens from every community and from every place and from every part of our nation. Great men and great women, people that we can look up to forever. Families will be able to walk among the statues of titans, and we have already selected the first 30 legacies and 30 legends. And why don’t we start with a man who has been very unfairly treated, who, two years ago, three years ago — especially five or six years ago — people would have said it’s impossible to even attempt to try and disturb his incredible legacy and success: George Washington. Thomas Jefferson. Betsy Ross. Alexander Hamilton. Benjamin Franklin. John Adams. James Madison. Dolly Madison. The great Frederick Douglass. Abraham Lincoln. Harriet Tubman. Harriet Beecher Stowe. Joshua Lawrence Chamberlain. Clara Barton. Daniel Boone. Davy Crockett. Henry Clay. Susan B. Anthony. Booker T. Washington. Orville and Wilbur Wright, who are looking down. And you’re going to see some planes like you have never seen before, because we build them better than anybody in the world. The greatest Air Force, the greatest fighters, the greatest everything. You’re going to be seeing something — I just wonder what Orville and Wilbur would have been thinking if they ever got to see that. But they’re looking. They’re checking it out right now along with us. Amelia Earhart. A great, great athlete no matter where he went; he was the best athlete: Jackie Robinson. George S. Patton — General Patton. He didn’t know how to lose. He didn’t don’t how to lose. General Douglas MacArthur. Audie Murphy. The great Billy Graham. And an incredible man, respected by everybody: Martin Luther King. President Ronald Reagan. Christa McAuliffe, and Antonin Scalia. So those are just a few of the people we’ll be naming, and things are subject to change, but once we make that decision, those great names are going to be up there and they’re never coming down. They have just been an incredible group. And we are going to do this in a very democratic way, frankly. We’re going to take names and suggestions. We’re going to have committees and we’re going to pick the greatest people that this country has ever known. The most respected people. The people that helped us the most. And the people that we can look up to and that our children and grandchildren and great-grandchildren can look up to into the future and they can say, “Isn’t America just a tremendous place?” So, thank you. That will be very exciting. The patriots who built our country were not villains, they were heroes whose courageous deeds improved the Earth beyond measure. The beauty and the glory of our constitutional system is that it gives us the tools to fight injustice, to heal division, and to continue the work of our Founding Fathers by expanding and growing the blessings of America. If you believe in justice, if you believe in freedom, if you believe in peace, then you must cherish the principles of our founding and the text of our Constitution. It is our founding and our Constitution. It is a firm foundation upon which all progress is achieved. That’s why our country is so strong, even despite terrible things that happen over the generations. Here this evening are a number of heroes who risk their own lives to uphold these values and keep our communities and our country safe. We are joined by the outstanding law enforcement officers who have been able to fight on the front lines, protecting our cities — many of them facing down violent assaults from very bad people. We are especially moved to be joined by the family of a great man: Fallen Officer David Dorn, a 38-year veteran of the St. Louis Police Department who was killed last month in the city he devoted his life to defending. And to David’s great family, I want to thank you very much. The American people will always support the courageous men and women of law enforcement. And nobody — nobody — embodies that better than David. Thank you very much. Please. And David is looking down right now, and he is so proud of you and he loves you so much. And thank you for being here. He’s a great man. He’s a great man. Finally tonight, we will salute the greatness and loyalty and valor of the men and women who have defended our independence for 244 years. We will honor the amazing men and women of the United States Military. Never in history has a nation used so much power to advance so much good. Battlefields across the world, and here at home, are marked with the gravestones of young patriots who spent their final valiant moments on this Earth to secure liberty and peace. Every child should be taught the military heroes who fought and died to make us free. These are great, great people. These are great, great heroes, indeed. And our greatest leaders and heroes should be recognized and even immortalized for coming generations to see. You know that. This will make our country even stronger long into the future. In a few moments, we will bear witness to awesome aircraft representing every major military conflict over the last 75 years. These planes once launched off massive aircraft carriers in the fiercest battles of World War II. They raced through the skies of Korea’s MiG Alley. They carried American warriors into the dense fields and jungles of Vietnam. They delivered a swift and swip- — and you know that sweeping — it was swift and it was sweeping like nobody has ever seen anything happen — a victory in Operation Desert Storm. A lot of you were involved in that. A lot of you were involved. That was a quick one. And they have gone on to dangerous missions around the world to take out enemy terrorists and bring our soldiers home safely. As you know, we’ve killed, this last year, the two leading terrorists of the last 10 years: al-Baghdadi and Soleimani. Killed. Gone. Over. We have worked to fully rebuild the Armed Forces of the United States. No enemy on Earth stands a chance — $2.5 trillion, we’ve invested — all made in the USA. We’ve never had anything near the power and the equipment that we have right now. We did that over the last three years. Everywhere these aircraft have flown, they’ve rained down American thunder, delivered American justice, and they have fiercely defended every square inch of American sovereignty.<br>\\nIn their steel frames, broad wings, and roaring engines, we see the story of America’s daring defiance, its soaring spirit, and undying resolve. Throughout our history, our country has been tested and tried – but we have always fought to victory. Whenever our way of life has been threatened, our ancestors have responded with the same resounding answer as those first patriots who fought for independence: We are Americans, and we never back down, we never give in, and we never give up, and we will never yield [in] defense of our nation. We love our nation. We will only fight to win. Today, we thank God for the gift of life and for the blessing of liberty. We honor the legends of our history, the glories of our Founding Fathers, and the giants of the past, and the heroes of today who keep us safe, who keep us strong and proud, and who keep us free. Once again, Happy July Fourth to all. Our country is in great shape. Our military has never been stronger. And many, many good things are going to happen. Next year will be one of the greatest years we’ve ever had. I want to thank our men and women — they are so good — of the National Park Service, Air Traffic Control, and the United States Military. God Bless you, God Bless our heroes, God bless America. And now, let the flyovers begin. Thank you very much. '"
            ]
          },
          "metadata": {
            "tags": []
          },
          "execution_count": 17
        }
      ]
    },
    {
      "cell_type": "code",
      "metadata": {
        "id": "gELQIukHIh3N",
        "colab": {
          "base_uri": "https://localhost:8080/",
          "height": 35
        },
        "outputId": "8224a2bf-7c0a-427e-f9c0-e1875be63b35"
      },
      "source": [
        "# Get a list of speeches\n",
        "\n",
        "from selenium.webdriver.common.keys import Keys\n",
        "\n",
        "speechtitles=[]\n",
        "speechbodies=[]\n",
        "\n",
        "driver.get('https://millercenter.org/the-presidency/presidential-speeches')\n",
        "time.sleep(5)\n",
        "driver.find_element_by_xpath('/html/body/div[2]/div/main/div[2]/div/div[2]/article/div/div[2]/div/div/div/form/div[3]/fieldset/div/div/div/div[44]/label').click()\n",
        "\n",
        "lastElement = driver.find_elements_by_id('block-mainpagecontent')[-1]\n",
        "#lastElement.send_keys(Keys.NULL)\n",
        "\n",
        "for i in range(1,36):\n",
        "  time.sleep(2)\n",
        "  driver.find_element_by_xpath(('//*[@id=\"block-mainpagecontent\"]/article/div/div[2]/div/div/div/div/div['+str(i)+']/div[1]/span/a')).click()\n",
        "  title = driver.find_element_by_xpath('//*[@id=\"block-mainpagecontent\"]/article/div/div[2]/h2/span').text \n",
        "  speechtitles.append(title)\n",
        "  driver.execute_script(\"window.history.go(-1)\")\n"
      ],
      "execution_count": null,
      "outputs": [
        {
          "output_type": "execute_result",
          "data": {
            "application/vnd.google.colaboratory.intrinsic+json": {
              "type": "string"
            },
            "text/plain": [
              "'  if i+1 in scrollhere:\\n    scroll(driver,5)\\n  else:\\n    pass\\n'"
            ]
          },
          "metadata": {
            "tags": []
          },
          "execution_count": 18
        }
      ]
    },
    {
      "cell_type": "code",
      "metadata": {
        "id": "tVHEaaECfxr-",
        "colab": {
          "base_uri": "https://localhost:8080/",
          "height": 700
        },
        "outputId": "20c655c1-4e38-424f-f2fb-4aebb83e0f13"
      },
      "source": [
        "df = pd.DataFrame(columns=['speechtitles', 'speechbodies'])\n",
        "df['speechtitles']=speechtitles\n",
        "df['speechbodies']=speechbodies\n",
        "df.set_index(speech)"
      ],
      "execution_count": null,
      "outputs": [
        {
          "output_type": "execute_result",
          "data": {
            "text/html": [
              "<div>\n",
              "<style scoped>\n",
              "    .dataframe tbody tr th:only-of-type {\n",
              "        vertical-align: middle;\n",
              "    }\n",
              "\n",
              "    .dataframe tbody tr th {\n",
              "        vertical-align: top;\n",
              "    }\n",
              "\n",
              "    .dataframe thead th {\n",
              "        text-align: right;\n",
              "    }\n",
              "</style>\n",
              "<table border=\"1\" class=\"dataframe\">\n",
              "  <thead>\n",
              "    <tr style=\"text-align: right;\">\n",
              "      <th></th>\n",
              "      <th>speechtitles</th>\n",
              "      <th>speechbodies</th>\n",
              "    </tr>\n",
              "  </thead>\n",
              "  <tbody>\n",
              "    <tr>\n",
              "      <th>0</th>\n",
              "      <td>August 8, 2020: Press Conference on Executive ...</td>\n",
              "      <td>Thank you very much everybody. Thank you, and ...</td>\n",
              "    </tr>\n",
              "    <tr>\n",
              "      <th>1</th>\n",
              "      <td>July 4, 2020: Remarks at Salute to America</td>\n",
              "      <td>THE PRESIDENT: Wow. Are you having a good time...</td>\n",
              "    </tr>\n",
              "    <tr>\n",
              "      <th>2</th>\n",
              "      <td>June 20, 2020: Campaign Rally in Tulsa, Oklahoma</td>\n",
              "      <td>Thank you, thank you. So we begin, Oklahoma, w...</td>\n",
              "    </tr>\n",
              "    <tr>\n",
              "      <th>3</th>\n",
              "      <td>June 13, 2020: Address at West Point Graduation</td>\n",
              "      <td>Thank you, General, and hello cadets. On behal...</td>\n",
              "    </tr>\n",
              "    <tr>\n",
              "      <th>4</th>\n",
              "      <td>June 1, 2020: Statement on Protests Against Po...</td>\n",
              "      <td>Thank you very much. My fellow Americans: My f...</td>\n",
              "    </tr>\n",
              "    <tr>\n",
              "      <th>5</th>\n",
              "      <td>April 23, 2020: Task Force Briefing on the Cor...</td>\n",
              "      <td>THE PRESIDENT: Thank you very much. Later this...</td>\n",
              "    </tr>\n",
              "    <tr>\n",
              "      <th>6</th>\n",
              "      <td>April 15, 2020: Press Briefing with the Corona...</td>\n",
              "      <td>THE PRESIDENT: Okay. Thank you very much. Plea...</td>\n",
              "    </tr>\n",
              "    <tr>\n",
              "      <th>7</th>\n",
              "      <td>April 13, 2020: Coronavirus Task Force Briefing</td>\n",
              "      <td>THE PRESIDENT: Thank you very much, everyone. ...</td>\n",
              "    </tr>\n",
              "    <tr>\n",
              "      <th>8</th>\n",
              "      <td>March 13, 2020: Press Conference about the Cor...</td>\n",
              "      <td>THE PRESIDENT: Thank you very much, everyone. ...</td>\n",
              "    </tr>\n",
              "    <tr>\n",
              "      <th>9</th>\n",
              "      <td>March 11, 2020: Statement on the Coronavirus</td>\n",
              "      <td>My fellow Americans: Tonight, I want to speak ...</td>\n",
              "    </tr>\n",
              "    <tr>\n",
              "      <th>10</th>\n",
              "      <td>February 6, 2020: Remarks after HIs Acquittal</td>\n",
              "      <td>Well, thank you very much. (Applause.) Thank y...</td>\n",
              "    </tr>\n",
              "    <tr>\n",
              "      <th>11</th>\n",
              "      <td>February 4, 2020: State of the Union Address</td>\n",
              "      <td>Thank you very much. Thank you. Thank you very...</td>\n",
              "    </tr>\n",
              "    <tr>\n",
              "      <th>12</th>\n",
              "      <td>January 24, 2020: Speech at March for Life</td>\n",
              "      <td>THE PRESIDENT: Well, thank you very much and t...</td>\n",
              "    </tr>\n",
              "    <tr>\n",
              "      <th>13</th>\n",
              "      <td>January 8, 2020: Statement on Iran</td>\n",
              "      <td>As long as I am President of the United States...</td>\n",
              "    </tr>\n",
              "    <tr>\n",
              "      <th>14</th>\n",
              "      <td>January 3, 2020: Remarks on the Killing of Qas...</td>\n",
              "      <td>Hello, everybody.Well, thank you very much.And...</td>\n",
              "    </tr>\n",
              "    <tr>\n",
              "      <th>15</th>\n",
              "      <td>October 27, 2019: Statement on the the Death o...</td>\n",
              "      <td>Last night, the United States brought the worl...</td>\n",
              "    </tr>\n",
              "    <tr>\n",
              "      <th>16</th>\n",
              "      <td>September 25, 2019: Press Conference</td>\n",
              "      <td>PRESIDENT TRUMP: Thank you very much. Thank yo...</td>\n",
              "    </tr>\n",
              "    <tr>\n",
              "      <th>17</th>\n",
              "      <td>September 24, 2019: Remarks at the United Nati...</td>\n",
              "      <td>PRESIDENT TRUMP: Thank you very much. Mr. Pres...</td>\n",
              "    </tr>\n",
              "    <tr>\n",
              "      <th>18</th>\n",
              "      <td>February 15, 2019: Speech Declaring a National...</td>\n",
              "      <td>THE PRESIDENT: Thank you very much, everybody....</td>\n",
              "    </tr>\n",
              "    <tr>\n",
              "      <th>19</th>\n",
              "      <td>February 5, 2019: State of the Union Address</td>\n",
              "      <td>in id=\"main-content\"&gt;\\n&lt;p&gt;Madam Speaker, Mr. V...</td>\n",
              "    </tr>\n",
              "    <tr>\n",
              "      <th>20</th>\n",
              "      <td>January 19, 2019: Remarks about the US Souther...</td>\n",
              "      <td>THE PRESIDENT:Just a short time ago, I had the...</td>\n",
              "    </tr>\n",
              "  </tbody>\n",
              "</table>\n",
              "</div>"
            ],
            "text/plain": [
              "                                         speechtitles                                       speechbodies\n",
              "0   August 8, 2020: Press Conference on Executive ...  Thank you very much everybody. Thank you, and ...\n",
              "1          July 4, 2020: Remarks at Salute to America  THE PRESIDENT: Wow. Are you having a good time...\n",
              "2    June 20, 2020: Campaign Rally in Tulsa, Oklahoma  Thank you, thank you. So we begin, Oklahoma, w...\n",
              "3     June 13, 2020: Address at West Point Graduation  Thank you, General, and hello cadets. On behal...\n",
              "4   June 1, 2020: Statement on Protests Against Po...  Thank you very much. My fellow Americans: My f...\n",
              "5   April 23, 2020: Task Force Briefing on the Cor...  THE PRESIDENT: Thank you very much. Later this...\n",
              "6   April 15, 2020: Press Briefing with the Corona...  THE PRESIDENT: Okay. Thank you very much. Plea...\n",
              "7     April 13, 2020: Coronavirus Task Force Briefing  THE PRESIDENT: Thank you very much, everyone. ...\n",
              "8   March 13, 2020: Press Conference about the Cor...  THE PRESIDENT: Thank you very much, everyone. ...\n",
              "9        March 11, 2020: Statement on the Coronavirus  My fellow Americans: Tonight, I want to speak ...\n",
              "10      February 6, 2020: Remarks after HIs Acquittal  Well, thank you very much. (Applause.) Thank y...\n",
              "11       February 4, 2020: State of the Union Address  Thank you very much. Thank you. Thank you very...\n",
              "12         January 24, 2020: Speech at March for Life  THE PRESIDENT: Well, thank you very much and t...\n",
              "13                 January 8, 2020: Statement on Iran  As long as I am President of the United States...\n",
              "14  January 3, 2020: Remarks on the Killing of Qas...  Hello, everybody.Well, thank you very much.And...\n",
              "15  October 27, 2019: Statement on the the Death o...  Last night, the United States brought the worl...\n",
              "16               September 25, 2019: Press Conference  PRESIDENT TRUMP: Thank you very much. Thank yo...\n",
              "17  September 24, 2019: Remarks at the United Nati...  PRESIDENT TRUMP: Thank you very much. Mr. Pres...\n",
              "18  February 15, 2019: Speech Declaring a National...  THE PRESIDENT: Thank you very much, everybody....\n",
              "19       February 5, 2019: State of the Union Address  in id=\"main-content\">\\n<p>Madam Speaker, Mr. V...\n",
              "20  January 19, 2019: Remarks about the US Souther...  THE PRESIDENT:Just a short time ago, I had the..."
            ]
          },
          "metadata": {
            "tags": []
          },
          "execution_count": 41
        }
      ]
    }
  ]
}